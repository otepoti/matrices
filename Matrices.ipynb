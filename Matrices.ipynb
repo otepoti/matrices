{
 "cells": [
  {
   "cell_type": "markdown",
   "metadata": {},
   "source": [
    "## Matrices\n",
    "This notebook contains basic matrix terminology and examples of simple manipulations in NumPy.\n",
    "\n",
    "A matrix is a rectangular array of numbers, symbols, or expressions (its elements).\n",
    "\n",
    "A matrix with $r$ rows and $c$ columns is said to be of **_order_** $r \\times c$. The number of rows is always given first."
   ]
  },
  {
   "cell_type": "markdown",
   "metadata": {},
   "source": [
    "### Matrices in Python\n",
    "NumPy provides the `Matrix` class as a sub-class of `ndarray`. For computational purposes it's often best to stick with the more general `ndarray` class. In this notebook we are going to use the symbolic manipulation package `SymPy`. `SymPy` has its own matrix class, demonstrated below."
   ]
  },
  {
   "cell_type": "code",
   "execution_count": 43,
   "metadata": {
    "collapsed": false
   },
   "outputs": [
    {
     "data": {
      "image/png": "iVBORw0KGgoAAAANSUhEUgAAAFUAAAAyBAMAAADfKoqLAAAAMFBMVEX///8AAAAAAAAAAAAAAAAA\nAAAAAAAAAAAAAAAAAAAAAAAAAAAAAAAAAAAAAAAAAAAv3aB7AAAAD3RSTlMA74lUMhDNIruZq3bd\nZkRVk0nZAAAB4ElEQVRIDe3WO0sDQRAH8H8S787EBxFF7HKIhY/C1DYGH4XdYWsTrARB0kkKUUFB\nq0RQiamsDWIp2his1MZYi3h+AlE0Cj7WTczuzaorsVNwq0zmt8Pe7N5yiLBbVDH8jIXRPDRcBYUx\nNBhGSzWyZGoq1nSUGcnMAo2t9s6otFZKscYmel2Ckwi8CGss7yg25MAXJvYgimdhgQPF+vII3RF7\n5RpFnTXvVQuyho91ecn6e1IXMNO6upxd29QOHPNI9ExdL08cUQr4+S7obHBOtWhytHZfodNAKqqz\ngTR4Xg7mIFXQ2RFgV0qgDThNaKx12J7NE3uBwJN8tmzkpEByJmOM2saNjCstcfqfomd64WX+7Xsv\nflUf+MkiY9IZcUkIf08HOQ/qOxNh/Fx5w5jCumfr+BElYzyXIBFMG0uenZmgOWwqES7LM0XP7G/t\nfHlqxTYkVLt9vkorFwf2XLmGMah2EbM8KYZRLKBZWvuDBWrzQgIGf49XxP0QiH2ywQfPli7US7fy\nHo9CtaE4/K/EtnIr7oe+ra2bHMn54gjSe5L3QdblTNmLIL9T42RuP1+vfDbgkaRgpXFGN67WNrw+\noJNtU5zsXqMhurIxUldJfR2IPf46q/77B+1Pvgl+8K3xBv9Oew35hFwTAAAAAElFTkSuQmCC\n",
      "text/latex": [
       "$$\\left[\\begin{matrix}1 & 2 & 3\\\\4 & 5 & 6\\end{matrix}\\right]$$"
      ],
      "text/plain": [
       "⎡1  2  3⎤\n",
       "⎢       ⎥\n",
       "⎣4  5  6⎦"
      ]
     },
     "execution_count": 43,
     "metadata": {},
     "output_type": "execute_result"
    }
   ],
   "source": [
    "import numpy as np\n",
    "import sympy as sp\n",
    "sp.init_printing() # Initialise pretty printing using LaTeX if installed.\n",
    "A = sp.Matrix([[1, 2, 3], [4, 5, 6]]) # Note the format - a list of lists, not two lists.\n",
    "B = sp.Matrix([[3, 2, 1], [6, 5, 4]])\n",
    "A"
   ]
  },
  {
   "cell_type": "code",
   "execution_count": 44,
   "metadata": {
    "collapsed": false
   },
   "outputs": [
    {
     "data": {
      "image/png": "iVBORw0KGgoAAAANSUhEUgAAAFUAAAAyBAMAAADfKoqLAAAAMFBMVEX///8AAAAAAAAAAAAAAAAA\nAAAAAAAAAAAAAAAAAAAAAAAAAAAAAAAAAAAAAAAAAAAv3aB7AAAAD3RSTlMA74lUMhAiu5lmdt1E\nzatYvhcYAAAB7UlEQVRIDe2WPUgjURSFz0x+ZpJsfkDtxGhKhdXCXmEVLLWyEoOF2q3obidsChct\nRGJjISxkt7CUYGOb0s4gCmoVwUaLCMYIq+L4hsQ35wqRpLPwVfe8883lzvu5M0g6t2himI6TQNvI\naBMoAiPfEmhvhnQZf42dSS2JJ+ZXfwiNE80GMxjKkhkoob9AGnNVzYYriOfJi43DSJCe3PDYL52Y\nLpJn5BG7I42wx6ppUUO0+i57ymlUHHEz6cF5/X0ZPV8LDrt5glmgZ5g9YF9IyRodwrQXhCQ2mIZV\nEeauULwO8Sqs/+z6MphlTXmNBUTu2RsDdlgTG8piKEdecC+1wfvINeBgbZlQRB3HYda+eLzS54zB\nhnH9TDb02fhka6vxkdYh9W+Yt+h8fKzAGv6MPg9TBZvvPJLOg0ARUfek/m5HsJTwxtF12hNu9Fez\nIXHQlVVyfRrBP5q1EjTvhqU32oxqNn7cuy7cq+0Vobc8dvoMxgCbP/G9QDqQI7YKW/YHWHliTXis\naqihJ/JUaPPrDhJrFBHi/hArwqRnA93EqnUQedWzNvVJX7l805Wr74VP1cvLZqueWhQ1qW7zum+L\nmBggT30/NtOkgbjHmmuXwpr/+lto89dz9jWvMBqJj3QvGtXI8y3W28o/QQv/Gi+v+3qPUbU2OAAA\nAABJRU5ErkJggg==\n",
      "text/latex": [
       "$$\\left[\\begin{matrix}3 & 2 & 1\\\\6 & 5 & 4\\end{matrix}\\right]$$"
      ],
      "text/plain": [
       "⎡3  2  1⎤\n",
       "⎢       ⎥\n",
       "⎣6  5  4⎦"
      ]
     },
     "execution_count": 44,
     "metadata": {},
     "output_type": "execute_result"
    }
   ],
   "source": [
    "B"
   ]
  },
  {
   "cell_type": "markdown",
   "metadata": {},
   "source": [
    "In SymPy we can do the same thing with symbols:"
   ]
  },
  {
   "cell_type": "code",
   "execution_count": 45,
   "metadata": {
    "collapsed": false
   },
   "outputs": [
    {
     "data": {
      "image/png": "iVBORw0KGgoAAAANSUhEUgAAAFwAAAAyBAMAAAAjP6FBAAAAMFBMVEX///8AAAAAAAAAAAAAAAAA\nAAAAAAAAAAAAAAAAAAAAAAAAAAAAAAAAAAAAAAAAAAAv3aB7AAAAD3RSTlMA74lUMhB2qyJEZt3N\nu5lcG7FTAAACGElEQVRIDe2WT2jTYBjGH7ukSwpNZc4/N2OhZSjY7lAoCKNCvfRiKHqURqE9jVI8\niMgO9bIdvPQgOzgYnbDLBMHLYOKhVxEhJ71JvRSEqvVPRYTRfV+Spm/aZCRn9x7a73mfX968eb80\nDS6OfiJgZEY/cKZ4IyCNW8VlLAaFOXf9f8PF2sPNNJ1QuQfpLE3Ir1olZzJlvNDfUFddRnRAE3dq\n3xoOnkJGyxNXyvYRN0gCGja4tOau4T31IOIcErorJfDizjb9cXmQh7hZcKW2TWXvqvCbVSShdHCX\nSGCua0oLz7HrqlI73sBHqrECOJcq/4oPpDa1FUP+R7Xw+vJqiyXM6uKD6r096kK8X/9LEwp23nJt\n904ta8269wgffA0Vfu6Z8MH38WEG5QkffLNeCIN7sv7VT3C/uQPrz7se4/HZJkgqXobAI8BWCJz9\n0L+GwHXIXo9mu/erdff9KuR775q0+rVDDbnxHfmkJV6QssSO3U5+LlB9/ooBfYwvAJ+iGrGjQLRD\nNHsmfZlr2rgyBPpsFpNguDyYSOwCEQ6YvZ8ygEsp4qIIxE7TBMOfjvGKCmSy1NWB+QZNMJxBVvVE\nm+Euk53ucdOVQURn2mxGaSD2XdCI/QjCAZF8Oc99a+7JvbZC/w7kUjpJj+a4wj/sbeJLEmwwM3EM\n7hqqfeAz/h28+pI/zkc8HSpPeFefRh0dGg/5ghLu9ecIZhtpz02vWYQAAAAASUVORK5CYII=\n",
      "text/latex": [
       "$$\\left[\\begin{matrix}x & y & z\\\\\\alpha & \\beta & \\gamma\\end{matrix}\\right]$$"
      ],
      "text/plain": [
       "⎡x  y  z⎤\n",
       "⎢       ⎥\n",
       "⎣α  β  γ⎦"
      ]
     },
     "execution_count": 45,
     "metadata": {},
     "output_type": "execute_result"
    }
   ],
   "source": [
    "from sympy.abc import x, y, z, alpha, beta, gamma # sympy.abc provides pre-defined symbols.\n",
    "C = sp.Matrix([[x, y, z], [alpha, beta, gamma]])\n",
    "D = sp.Matrix([[z, y, x],[gamma, beta, alpha]])\n",
    "C"
   ]
  },
  {
   "cell_type": "code",
   "execution_count": 46,
   "metadata": {
    "collapsed": false
   },
   "outputs": [
    {
     "data": {
      "image/png": "iVBORw0KGgoAAAANSUhEUgAAAFwAAAAyBAMAAAAjP6FBAAAAMFBMVEX///8AAAAAAAAAAAAAAAAA\nAAAAAAAAAAAAAAAAAAAAAAAAAAAAAAAAAAAAAAAAAAAv3aB7AAAAD3RSTlMA74lUMhBE3Wa7dpmr\nIs2WKnByAAACEUlEQVRIDe2Wv0sbYRzGH5PcmeRyVFSctI0FKRhKdBAHEVJUXDoc0rHQCEKlS/oP\nVK6CVJxcWx1eBEEUNEMRBImZpQXbDh3awanQzf4EXfR9k3u95zRXctCt/S73Ps/zed983ze5y+HW\n+Xc0Wfnzb+gYn2iSxoPxQXQ2Cyvu3j+HP+5KuGrnXhk5gXeOVvJqbL590i+v9ZMxXm3tU4hYvA07\nbEzhhZjzcdhVTj9Yx3jJRh/yzuglDtznEE6LwBk7Dr7WpPc1mWUOgZKT+Bl06rM9fCSYoYJ0W8CS\nsw1p1PF4GZlAuopUlY2h9AnWL/HJ+aUvnGIPJZcM80fqxFZGffVy8maRUuBh/8ERGcbh+tqi0l7v\nFHnDynUrFM8cG78j4K0iJSLg5ubrhnR47//xv/OcsTdyjY4y7DfzHskrd0xtdhiehfm0wfIhePwI\n1nLzeBqYLoTiw6cOhjgd+7T9jDVyW0Wla80ku+8sQyipa2EqF3jufywaPfaAh38GdmW3VALYJol2\nYCXtePgCEItxqj6qRIb1C6goQp9MbIZSJArAczJa5Cn19jGepRTyYPCGjEcyzcvW/dUFpUgBdg8Z\nN1yJK62bych9+JVxMVn0JawqkgcJvVUZWBQCM/NrqlO/bi+6lv93cBUXPhgc6WZmA3Y2oEho/C55\nUMfeuDSe5dgssOKxxtn7wzgyHvEFJdrrzwVFr2ugAV2TfgAAAABJRU5ErkJggg==\n",
      "text/latex": [
       "$$\\left[\\begin{matrix}z & y & x\\\\\\gamma & \\beta & \\alpha\\end{matrix}\\right]$$"
      ],
      "text/plain": [
       "⎡z  y  x⎤\n",
       "⎢       ⎥\n",
       "⎣γ  β  α⎦"
      ]
     },
     "execution_count": 46,
     "metadata": {},
     "output_type": "execute_result"
    }
   ],
   "source": [
    "D"
   ]
  },
  {
   "cell_type": "markdown",
   "metadata": {},
   "source": [
    "### Addition and scalar multiplication\n",
    "Matrices can be added if they have the same order."
   ]
  },
  {
   "cell_type": "code",
   "execution_count": 47,
   "metadata": {
    "collapsed": false
   },
   "outputs": [
    {
     "data": {
      "image/png": "iVBORw0KGgoAAAANSUhEUgAAAHQAAAAyBAMAAAB/teJlAAAAMFBMVEX///8AAAAAAAAAAAAAAAAA\nAAAAAAAAAAAAAAAAAAAAAAAAAAAAAAAAAAAAAAAAAAAv3aB7AAAAD3RSTlMA74lUMhCZ3bt2ImbN\nq0Q16XkdAAAB20lEQVRIDe2WvUtCURiHf129mh+oUENLeMeEIIPWUMFaM4k+JiUac2qRIGhqC3UJ\nGiLHoCFbI0iIoNGgJUT8E8Kir0HseO/Nczz3FcwaPcPl+vB77nt83wv3INh6wQBrptXAWHxhABMr\n8VmMDyK2nVhHtaeJZ5Bw0Qhy1blPqCTMymqBUinompBU9zWhkvD8XlIVL6GSUJPVK0qloKcoqWqe\nUEm4AUlVQKgk1GR1jlIpaItKqqoRKgmTkFRbrVafzBtN71xJOF+rNZ70CH+bRojhgITyKwE/pZLw\n09hXp6qSa5YMJFxJONWq6pGOKgh93g7Vvho1bNNv2uRNAKuhrW7lDlA3j6K9oNFhd46pt1grirGz\nN8AbVndFBgHqqnpQT8ATgFIWYusZpl4C0wKDCM25niYwWoGNhflysV+HQIRtiC8BctVfge+VZ4B2\nqgk8h3tArqbS8H1JKfWdqfkekKsXGuxd33dW1c3AkiapP/Bf1JRGbJhVtW7YhLyqPw2bpU3sv0Ys\nbTIhV9kH3GMZTha4sQzHhFx1BeAoSx1BAdgWmT4xE3IVO1iOirH2XJ1htfuEI0BDzQT3SkgeP4qm\n4+GjCjV00vU4EZpVRaff+6HaV6difznUDn6U/gY5+LHj9/a6QwAAAABJRU5ErkJggg==\n",
      "text/latex": [
       "$$\\left[\\begin{matrix}4 & 4 & 4\\\\10 & 10 & 10\\end{matrix}\\right]$$"
      ],
      "text/plain": [
       "⎡4   4   4 ⎤\n",
       "⎢          ⎥\n",
       "⎣10  10  10⎦"
      ]
     },
     "execution_count": 47,
     "metadata": {},
     "output_type": "execute_result"
    }
   ],
   "source": [
    "A + B"
   ]
  },
  {
   "cell_type": "code",
   "execution_count": 48,
   "metadata": {
    "collapsed": false
   },
   "outputs": [
    {
     "data": {
      "image/png": "iVBORw0KGgoAAAANSUhEUgAAALIAAAAyBAMAAAAKFJyDAAAAMFBMVEX///8AAAAAAAAAAAAAAAAA\nAAAAAAAAAAAAAAAAAAAAAAAAAAAAAAAAAAAAAAAAAAAv3aB7AAAAD3RSTlMA74lUMhB2qyJEZt3N\nu5lcG7FTAAAEBUlEQVRYCe2YTWhUVxTH//PuvMlMkhnjByi0xWdAkVQmcaEIgow0blpoX0WMm9JL\nwKSUULPxA1w46sKPQBhBuujCmRTcpFBiF6UtFrMVR81CcGU7SKkIMYm1EVRkvO+ee+fd9+bNOAlm\n51vcc+7/nP8vN/fNzLsz2Fj9D+/+6q0+xdr+fe8ejAP927FuBbgecm/L5PEn95a0hpbJ9ih6C0tB\n15HtfLS9zUWsK7qk1EPBah2Z8WCDnsWm0Pa/nkTGnUG1ZXLn4rLI9tCJ77fQn2ScYupa4VPKamPH\nop3lOO3WBJEcHL4wyEnQa1ZOWvN+/MSvU52pvq+G5kZJqY1Fx2JdOFKbi8R22n/tmCZFk5WTyJvR\n6+6iOuMUXZyjxB//xNnMNB74AmC51iLLk6LJyklkF7d1P+Mqi4eXnJmBG+N4rju9aKNzRs81GeTU\nd5D6rXL51oflcsVrvqIdOg6LpOjGQy+QVVzWt5XL18rlOzInpyKLfluqYFzFCsXayCo4j1kkumqK\nTL7IwSVFr1k0eheRdyQWcFjOwTjFPUBwOz4HvsF9pAMqc48gESIrpySnnqUXkiUiMi5j/I+ekQIp\nNCZ/6X40hScolky12Pc3LipBrVk7Jdk+dnhwUtUZl0kGEzeVQqGzWq1OYWDLfN6UB4YO9pSUoMja\nqfbZ72bcz6Oy2ShRanqfVUMdOVVqaAXapu0XDcs/BCt15GA5NOvgaR6SGk6XRk4N/dOQFC4sjRx2\nN5u/J5u78343lrUbybkHOWFMfps17U3ylvd5AJb3xj6D9koTnFGqIzc6yRwFVgufg9SUYTfT5Z5k\nPgBO5SCepuJxGH297bOO8WjfXdcjJ4BLuegGRJOz3+kHCONk3P3axY4g44aLT8ZHfguI1r+P9VyT\nlZP2eaxgb0j2yRbGZWhf//EMKJVzMaTEd4Or+7OB83byd3yZP0sdiqydRF4D/KUelIzLPnGMeayP\nKGREh9hgURxRUxliDtIV9WxWZO2U5MwiMGuRg3EZr4rzj1JIh3i6SnJRz7047yIz7ZCiyNopyTGx\nmk2bRd08ycC6TA41JkaBeA6YMNWPhGeNKxTzJENOSf7aAXr7yME4RWFxdCbjHiTz4qWB44Zqi623\nnilB30HllORVJUFWdcZVAquWeUq8gkQ+Ld7eG3Tdiy8FZkEJBpkLifZ5FO3zce+fAhgXg7zE9wfj\nGuvOnkRbCZ8VDBGPgJ8X9pHik6VTktE9WcqETuZAxkTgbrX6Cpd/HPRuh39ZPZN4yGnuk6WTyH4r\nGNeTIFmqtZruMePbyP5JJnQy8SCOSQrnfr/M6tbs92/1U51xnTSP0tmE7NTZU7k6KVJwPLUJOdLU\nuriS5JX7FWLFfjl5A0UC5WMFxMMHAAAAAElFTkSuQmCC\n",
      "text/latex": [
       "$$\\left[\\begin{matrix}x + z & 2 y & x + z\\\\\\alpha + \\gamma & 2 \\beta & \\alpha + \\gamma\\end{matrix}\\right]$$"
      ],
      "text/plain": [
       "⎡x + z  2⋅y  x + z⎤\n",
       "⎢                 ⎥\n",
       "⎣α + γ  2⋅β  α + γ⎦"
      ]
     },
     "execution_count": 48,
     "metadata": {},
     "output_type": "execute_result"
    }
   ],
   "source": [
    "C + D"
   ]
  },
  {
   "cell_type": "markdown",
   "metadata": {
    "collapsed": true
   },
   "source": [
    "And scalar multiplication is motivated by addition."
   ]
  },
  {
   "cell_type": "code",
   "execution_count": 49,
   "metadata": {
    "collapsed": false
   },
   "outputs": [
    {
     "data": {
      "image/png": "iVBORw0KGgoAAAANSUhEUgAAAHsAAAAyBAMAAACOvrnoAAAAMFBMVEX///8AAAAAAAAAAAAAAAAA\nAAAAAAAAAAAAAAAAAAAAAAAAAAAAAAAAAAAAAAAAAAAv3aB7AAAAD3RSTlMA74lUMhAiu5lmdt1E\nzatYvhcYAAADF0lEQVRIDe2XT0gUURzHv7uzM/vHSddSuxitC9JigXspurmknYQYvHXJzSCELkJI\nEZFzCPRibkIH6zIIggmip+oSjtAh6qC3PHSQoA4dQjIDrdh+783s+N68gS3t2MDsvPn4/eybebPs\nd8XJ6lccbItXq1kc67t4MBt6X28WLQeUmZbwdCN/qhjxLkP5myoVs74+DG03Imijp6JgMevrS0X8\nUHLIbKNpWcFi1tdXXf2XkoPZjsF1BYtZX0fkxZMZcfFiNtCP2NAXPr3pCk22Ab3g4KolYcribXuC\nlqWmX3gBDOCJ81LKJU7biGtZLEmUZfU78w8I1nTEW9CJbuucFAQ6StdS67glU8rqMDZFHc2WhXdy\njM5irVbMwV6IN9PNXGLMn/06MFZEOGaUkdzGmpX4Jupe1rQFvWphrAKK6WKwaQfJXUwikxWplz3P\nkT/7cWClfDazhTkxGBtBw3fcQ3JTpDyr2Wgk6Osz0PbM7eSWQQ9jf0tX0ONgHGsSZVn0Tz9+v6+b\nE+Ou/nludmbfZaPXE3eBK11TZRGzLOz0CZdg8ODEQHg8GQbBeX29cV3/GcTDg/p6g5N0wlZwXl83\nF+4HaWVQX1cUEfzXxdX4q/G/WbrIPoBfCMbTgnhJak0YkX0AvxCGkLYFX62J6D6AXwg5mMuCrtZE\ndB/AKwStjNSIoEfWRGQf8PLIAKslQY+siQ0KFOZdKQawQugdXnwmY6Layig0q/Z1wfoAN1y9zSiK\nSVYIeDRQkH8CMPrww3PQZQXPvaOEo8DtjCXqrDzgAIsSJEodkXKpUgI91praASbjcpDKg+lrYXqZ\nZsnlarrB+oC+ltHRKQZ5ISRKdKkKJXCG/uDNzvtgMAd0S7fOC4HuEF9oDzavJoA8EU/nfdBUIT0I\nsQEvhCRgtImYUwKsyz2d90FqE+mpBN1UsPFCaKyg3w0QDTil40fa/aXjfZCfqaTYWwYbL4RX07PS\ngoBTyti0+3pgqANHRR6x6VBfz3lh5dWkpfoD3VFED8TLdKw7u1ny0sor/4DV1RVNAofXD/mD/HD/\nDvwG3vvKYC2taioAAAAASUVORK5CYII=\n",
      "text/latex": [
       "$$\\left[\\begin{matrix}3 x & 3 y & 3 z\\\\3 \\alpha & 3 \\beta & 3 \\gamma\\end{matrix}\\right]$$"
      ],
      "text/plain": [
       "⎡3⋅x  3⋅y  3⋅z⎤\n",
       "⎢             ⎥\n",
       "⎣3⋅α  3⋅β  3⋅γ⎦"
      ]
     },
     "execution_count": 49,
     "metadata": {},
     "output_type": "execute_result"
    }
   ],
   "source": [
    "C + C + C"
   ]
  },
  {
   "cell_type": "code",
   "execution_count": 50,
   "metadata": {
    "collapsed": false
   },
   "outputs": [
    {
     "data": {
      "image/png": "iVBORw0KGgoAAAANSUhEUgAAAHsAAAAyBAMAAACOvrnoAAAAMFBMVEX///8AAAAAAAAAAAAAAAAA\nAAAAAAAAAAAAAAAAAAAAAAAAAAAAAAAAAAAAAAAAAAAv3aB7AAAAD3RSTlMA74lUMhAiu5lmdt1E\nzatYvhcYAAADF0lEQVRIDe2XT0gUURzHv7uzM/vHSddSuxitC9JigXspurmknYQYvHXJzSCELkJI\nEZFzCPRibkIH6zIIggmip+oSjtAh6qC3PHSQoA4dQjIDrdh+783s+N68gS3t2MDsvPn4/eybebPs\nd8XJ6lccbItXq1kc67t4MBt6X28WLQeUmZbwdCN/qhjxLkP5myoVs74+DG03Imijp6JgMevrS0X8\nUHLIbKNpWcFi1tdXXf2XkoPZjsF1BYtZX0fkxZMZcfFiNtCP2NAXPr3pCk22Ab3g4KolYcribXuC\nlqWmX3gBDOCJ81LKJU7biGtZLEmUZfU78w8I1nTEW9CJbuucFAQ6StdS67glU8rqMDZFHc2WhXdy\njM5irVbMwV6IN9PNXGLMn/06MFZEOGaUkdzGmpX4Jupe1rQFvWphrAKK6WKwaQfJXUwikxWplz3P\nkT/7cWClfDazhTkxGBtBw3fcQ3JTpDyr2Wgk6Osz0PbM7eSWQQ9jf0tX0ONgHGsSZVn0Tz9+v6+b\nE+Ou/nludmbfZaPXE3eBK11TZRGzLOz0CZdg8ODEQHg8GQbBeX29cV3/GcTDg/p6g5N0wlZwXl83\nF+4HaWVQX1cUEfzXxdX4q/G/WbrIPoBfCMbTgnhJak0YkX0AvxCGkLYFX62J6D6AXwg5mMuCrtZE\ndB/AKwStjNSIoEfWRGQf8PLIAKslQY+siQ0KFOZdKQawQugdXnwmY6Layig0q/Z1wfoAN1y9zSiK\nSVYIeDRQkH8CMPrww3PQZQXPvaOEo8DtjCXqrDzgAIsSJEodkXKpUgI91praASbjcpDKg+lrYXqZ\nZsnlarrB+oC+ltHRKQZ5ISRKdKkKJXCG/uDNzvtgMAd0S7fOC4HuEF9oDzavJoA8EU/nfdBUIT0I\nsQEvhCRgtImYUwKsyz2d90FqE+mpBN1UsPFCaKyg3w0QDTil40fa/aXjfZCfqaTYWwYbL4RX07PS\ngoBTyti0+3pgqANHRR6x6VBfz3lh5dWkpfoD3VFED8TLdKw7u1ny0sor/4DV1RVNAofXD/mD/HD/\nDvwG3vvKYC2taioAAAAASUVORK5CYII=\n",
      "text/latex": [
       "$$\\left[\\begin{matrix}3 x & 3 y & 3 z\\\\3 \\alpha & 3 \\beta & 3 \\gamma\\end{matrix}\\right]$$"
      ],
      "text/plain": [
       "⎡3⋅x  3⋅y  3⋅z⎤\n",
       "⎢             ⎥\n",
       "⎣3⋅α  3⋅β  3⋅γ⎦"
      ]
     },
     "execution_count": 50,
     "metadata": {},
     "output_type": "execute_result"
    }
   ],
   "source": [
    "3*C"
   ]
  },
  {
   "cell_type": "markdown",
   "metadata": {},
   "source": [
    "### Extracting elements\n",
    "Extracting elements is straightforward as long as we remember Python uses zero-based indexing."
   ]
  },
  {
   "cell_type": "code",
   "execution_count": 51,
   "metadata": {
    "collapsed": false
   },
   "outputs": [
    {
     "data": {
      "image/png": "iVBORw0KGgoAAAANSUhEUgAAAAgAAAAPBAMAAAArJJMAAAAAJFBMVEX///8AAAAAAAAAAAAAAAAA\nAAAAAAAAAAAAAAAAAAAAAAAAAADHJj5lAAAAC3RSTlMAzRAiu5mrdu/dZmiL4QAAAAAjSURBVAgd\nY2BgEGJgYDDZxMCgEgYkGNhJJVgzdmYB9TEwAACPpQrvlUCHcAAAAABJRU5ErkJggg==\n",
      "text/latex": [
       "$$1$$"
      ],
      "text/plain": [
       "1"
      ]
     },
     "execution_count": 51,
     "metadata": {},
     "output_type": "execute_result"
    }
   ],
   "source": [
    "A[0,0]"
   ]
  },
  {
   "cell_type": "code",
   "execution_count": 52,
   "metadata": {
    "collapsed": false
   },
   "outputs": [
    {
     "data": {
      "image/png": "iVBORw0KGgoAAAANSUhEUgAAAAwAAAASBAMAAACdhyI/AAAAMFBMVEX///8AAAAAAAAAAAAAAAAA\nAAAAAAAAAAAAAAAAAAAAAAAAAAAAAAAAAAAAAAAAAAAv3aB7AAAAD3RSTlMAInZmiZlE3VS77zLN\nEKs8J6+bAAAAaklEQVQIHWNgYGAQMgkAkowODKZAioWBIR1INTIwRAIpBQa21QwM3I1BxwUYGJjv\nukRtYGBgAqIDYIrtAwPDbqD4ApBCBr4HDAwTGBikgCofM3CXMTCwbXZyuQBWyAAEQINBAKgbBLLB\nJAAhnA/O86xTPAAAAABJRU5ErkJggg==\n",
      "text/latex": [
       "$$\\beta$$"
      ],
      "text/plain": [
       "β"
      ]
     },
     "execution_count": 52,
     "metadata": {},
     "output_type": "execute_result"
    }
   ],
   "source": [
    "C[1,1]"
   ]
  },
  {
   "cell_type": "markdown",
   "metadata": {},
   "source": [
    "Symbolically it's common to represent elements with subscripts."
   ]
  },
  {
   "cell_type": "code",
   "execution_count": 53,
   "metadata": {
    "collapsed": false
   },
   "outputs": [
    {
     "data": {
      "image/png": "iVBORw0KGgoAAAANSUhEUgAAAGEAAAAyBAMAAAC+MqjJAAAAMFBMVEX///8AAAAAAAAAAAAAAAAA\nAAAAAAAAAAAAAAAAAAAAAAAAAAAAAAAAAAAAAAAAAAAv3aB7AAAAD3RSTlMA74lUMhB2mSJE3atm\nzbvLmA4DAAAB7ElEQVRIDe2WsUvDQBSHX9ukJG3BYl0EoZ2sY6WbgwpWnLTBpWundqnQQUUUJLq4\naREHcXKSburiIAhd1MWh4D/gIq4iCEqFePfuLjaXHLROBe1QLu/9vl7yaL4E0s4b9PwJO04SUoX5\nngHQC3NJGOk9T5PaXyf08aqtGNlyZcPT4bM6sY0MaE/YWvIEzCbsArBa9sUS0zVSUJrVtk5pduHa\nQ+zk9FVeC9vxtiDiY5VbgAgSMOUhLu9q5IexFrO1D0EMXdBUINFBHolQw/h0iYySYP9Svm/kXRAh\nQpSD9xgGiPKzAoiVBRFtQ8kOJlZAJ9Ple2TJqfDpVmstxXVE1x9IjBGJ+g9BVgoCO5w4hCN3D0Yk\nwXgGmGQhzzep7VvaY560u+4PY7NT1r5g7/zKE6YHtFZshRzn1UNgLuJLu4UcW3XtgYVjNyAvTJtV\nZKIlB93jBF/JhBtQLv4J5Wh8jYGe1S8NhwITNhNXjIYLb6/RY9lwTGCBhpuAGwL4DMcEJu5psQca\nrglFm5hENhwTmEyg4UbhoAHgNxxQgckEfw7PWLQlGw4FJhPMcHBGAZ/hgApMJpjhwnVsyYZDgckE\nM9w9Aj7DocBkAqNmxpwlC9lwVGAKwy3mp60Aw1GBKQyXdpzBN1z/b0t9v5F9A65jj2cgnGLxAAAA\nAElFTkSuQmCC\n",
      "text/latex": [
       "$$\\left[\\begin{matrix}e_{1,1} & e_{1,2}\\\\e_{2,1} & e_{2,2}\\end{matrix}\\right]$$"
      ],
      "text/plain": [
       "⎡e_1,1  e_1,2⎤\n",
       "⎢            ⎥\n",
       "⎣e_2,1  e_2,2⎦"
      ]
     },
     "execution_count": 53,
     "metadata": {},
     "output_type": "execute_result"
    }
   ],
   "source": [
    "E = sp.Matrix([[sp.symbols(\"e_1\\,1\"), sp.symbols(\"e_1\\,2\")],\n",
    "            [sp.symbols(\"e_2\\,1\"), sp.symbols(\"e_2\\,2\")]])\n",
    "E"
   ]
  },
  {
   "cell_type": "markdown",
   "metadata": {},
   "source": [
    "But it's not usual to use zero-based indexing!"
   ]
  },
  {
   "cell_type": "code",
   "execution_count": 54,
   "metadata": {
    "collapsed": false
   },
   "outputs": [
    {
     "data": {
      "image/png": "iVBORw0KGgoAAAANSUhEUgAAAB4AAAAPBAMAAAABlGKvAAAAMFBMVEX///8AAAAAAAAAAAAAAAAA\nAAAAAAAAAAAAAAAAAAAAAAAAAAAAAAAAAAAAAAAAAAAv3aB7AAAAD3RSTlMAEIl2mSJE3e9UMqtm\nzbsXyEShAAAAeUlEQVQIHWNgYFQ2CWBAAukBrAoMXA/AIusYGFg7GUQWcHkXgPhLtjMwcPcYH2Rg\n4ATzGaYzMPBvAMkg8RVQ+RxAvgGSPPMFBpEAJD6Dic0BZP0g3Vj4DQysDxkYZkBkGVjdfxtw/WEI\nqd8MFQDrQWKDmKlo/AMgPgClkhpfqwqG5AAAAABJRU5ErkJggg==\n",
      "text/latex": [
       "$$e_{1,1}$$"
      ],
      "text/plain": [
       "e_1,1"
      ]
     },
     "execution_count": 54,
     "metadata": {},
     "output_type": "execute_result"
    }
   ],
   "source": [
    "E[0,0]"
   ]
  }
 ],
 "metadata": {
  "kernelspec": {
   "display_name": "Python 3",
   "language": "python",
   "name": "python3"
  },
  "language_info": {
   "codemirror_mode": {
    "name": "ipython",
    "version": 3
   },
   "file_extension": ".py",
   "mimetype": "text/x-python",
   "name": "python",
   "nbconvert_exporter": "python",
   "pygments_lexer": "ipython3",
   "version": "3.4.4"
  }
 },
 "nbformat": 4,
 "nbformat_minor": 0
}
ellis waz 'ere
